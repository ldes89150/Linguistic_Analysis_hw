{
 "cells": [
  {
   "cell_type": "code",
   "execution_count": 1,
   "metadata": {
    "collapsed": true
   },
   "outputs": [],
   "source": [
    "system(\"wget -N https://ceiba.ntu.edu.tw/course/6d0f76/content/Word_Emotion_UTF8.csv\")"
   ]
  },
  {
   "cell_type": "code",
   "execution_count": 2,
   "metadata": {
    "collapsed": false,
    "scrolled": true
   },
   "outputs": [
    {
     "data": {
      "text/html": [
       "<table>\n",
       "<thead><tr><th></th><th scope=col>good</th><th scope=col>eat</th><th scope=col>cold</th><th scope=col>happy</th><th scope=col>morning</th></tr></thead>\n",
       "<tbody>\n",
       "\t<tr><th scope=row>1</th><td>2</td><td>2</td><td>4</td><td>2</td><td>2</td></tr>\n",
       "\t<tr><th scope=row>2</th><td>2</td><td>2</td><td>4</td><td>1</td><td>2</td></tr>\n",
       "\t<tr><th scope=row>3</th><td>2</td><td>1</td><td>2</td><td>1</td><td>1</td></tr>\n",
       "\t<tr><th scope=row>4</th><td>2</td><td>3</td><td>4</td><td>1</td><td>2</td></tr>\n",
       "\t<tr><th scope=row>5</th><td>2</td><td>3</td><td>4</td><td>1</td><td>2</td></tr>\n",
       "\t<tr><th scope=row>6</th><td>2</td><td>4</td><td>3</td><td>2</td><td>2</td></tr>\n",
       "\t<tr><th scope=row>7</th><td>2</td><td>2</td><td>4</td><td>1</td><td>3</td></tr>\n",
       "\t<tr><th scope=row>8</th><td>2</td><td>2</td><td>4</td><td>1</td><td>3</td></tr>\n",
       "\t<tr><th scope=row>9</th><td>1</td><td>2</td><td>4</td><td>1</td><td>2</td></tr>\n",
       "\t<tr><th scope=row>10</th><td>2</td><td>2</td><td>4</td><td>2</td><td>2</td></tr>\n",
       "</tbody>\n",
       "</table>\n"
      ],
      "text/latex": [
       "\\begin{tabular}{r|lllll}\n",
       "  & good & eat & cold & happy & morning\\\\\n",
       "\\hline\n",
       "\t1 & 2 & 2 & 4 & 2 & 2\\\\\n",
       "\t2 & 2 & 2 & 4 & 1 & 2\\\\\n",
       "\t3 & 2 & 1 & 2 & 1 & 1\\\\\n",
       "\t4 & 2 & 3 & 4 & 1 & 2\\\\\n",
       "\t5 & 2 & 3 & 4 & 1 & 2\\\\\n",
       "\t6 & 2 & 4 & 3 & 2 & 2\\\\\n",
       "\t7 & 2 & 2 & 4 & 1 & 3\\\\\n",
       "\t8 & 2 & 2 & 4 & 1 & 3\\\\\n",
       "\t9 & 1 & 2 & 4 & 1 & 2\\\\\n",
       "\t10 & 2 & 2 & 4 & 2 & 2\\\\\n",
       "\\end{tabular}\n"
      ],
      "text/plain": [
       "   good eat cold happy morning\n",
       "1     2   2    4     2       2\n",
       "2     2   2    4     1       2\n",
       "3     2   1    2     1       1\n",
       "4     2   3    4     1       2\n",
       "5     2   3    4     1       2\n",
       "6     2   4    3     2       2\n",
       "7     2   2    4     1       3\n",
       "8     2   2    4     1       3\n",
       "9     1   2    4     1       2\n",
       "10    2   2    4     2       2"
      ]
     },
     "execution_count": 2,
     "metadata": {},
     "output_type": "execute_result"
    }
   ],
   "source": [
    "data = read.csv(\"Word_Emotion_UTF8.csv\")\n",
    "data"
   ]
  },
  {
   "cell_type": "code",
   "execution_count": 15,
   "metadata": {
    "collapsed": false
   },
   "outputs": [
    {
     "name": "stdout",
     "output_type": "stream",
     "text": [
      "[1] 2.4\n",
      "[1] 2.2\n"
     ]
    }
   ],
   "source": [
    "a = mean(as.numeric(data[1,]))\n",
    "b = mean(as.numeric(data[2,]))\n",
    "print(a)\n",
    "print(b)\n",
    "to_save = c(a,b)"
   ]
  },
  {
   "cell_type": "code",
   "execution_count": 6,
   "metadata": {
    "collapsed": false
   },
   "outputs": [],
   "source": [
    "write(to_save, file = \"b01202065.csv\")"
   ]
  }
 ],
 "metadata": {
  "kernelspec": {
   "display_name": "R",
   "language": "R",
   "name": "ir"
  },
  "language_info": {
   "codemirror_mode": "r",
   "file_extension": ".r",
   "mimetype": "text/x-r-source",
   "name": "R",
   "pygments_lexer": "r",
   "version": "3.2.1"
  }
 },
 "nbformat": 4,
 "nbformat_minor": 0
}
